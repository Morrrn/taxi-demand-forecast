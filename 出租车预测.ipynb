{
 "cells": [
  {
   "cell_type": "code",
   "execution_count": 1,
   "metadata": {},
   "outputs": [
    {
     "name": "stderr",
     "output_type": "stream",
     "text": [
      "c:\\Users\\13801\\anaconda3\\envs\\Pytorch\\lib\\site-packages\\scipy\\__init__.py:173: UserWarning: A NumPy version >=1.19.5 and <1.27.0 is required for this version of SciPy (detected version 1.19.0)\n",
      "  warnings.warn(f\"A NumPy version >={np_minversion} and <{np_maxversion}\"\n"
     ]
    }
   ],
   "source": [
    "# 导入库\n",
    "import pandas as pd\n",
    "import numpy as np\n",
    "import matplotlib.pyplot as plt\n",
    "import seaborn as sns\n",
    "from sklearn.model_selection import train_test_split\n",
    "from sklearn.metrics import mean_squared_error, r2_score\n",
    "from sklearn.ensemble import RandomForestRegressor,GradientBoostingRegressor\n",
    "from keras.models import Sequential\n",
    "from keras.layers import LSTM, Dense,Dropout"
   ]
  },
  {
   "cell_type": "code",
   "execution_count": 2,
   "metadata": {},
   "outputs": [
    {
     "data": {
      "text/html": [
       "<div>\n",
       "<style scoped>\n",
       "    .dataframe tbody tr th:only-of-type {\n",
       "        vertical-align: middle;\n",
       "    }\n",
       "\n",
       "    .dataframe tbody tr th {\n",
       "        vertical-align: top;\n",
       "    }\n",
       "\n",
       "    .dataframe thead th {\n",
       "        text-align: right;\n",
       "    }\n",
       "</style>\n",
       "<table border=\"1\" class=\"dataframe\">\n",
       "  <thead>\n",
       "    <tr style=\"text-align: right;\">\n",
       "      <th></th>\n",
       "      <th>vendor_id</th>\n",
       "      <th>pickup_datetime</th>\n",
       "      <th>dropoff_datetime</th>\n",
       "      <th>passenger_count</th>\n",
       "      <th>trip_distance</th>\n",
       "      <th>pickup_longitude</th>\n",
       "      <th>pickup_latitude</th>\n",
       "      <th>rate_code</th>\n",
       "      <th>store_and_fwd_flag</th>\n",
       "      <th>dropoff_longitude</th>\n",
       "      <th>dropoff_latitude</th>\n",
       "      <th>payment_type</th>\n",
       "      <th>fare_amount</th>\n",
       "      <th>surcharge</th>\n",
       "      <th>mta_tax</th>\n",
       "      <th>tip_amount</th>\n",
       "      <th>tolls_amount</th>\n",
       "      <th>total_amount</th>\n",
       "    </tr>\n",
       "  </thead>\n",
       "  <tbody>\n",
       "    <tr>\n",
       "      <th>0</th>\n",
       "      <td>CMT</td>\n",
       "      <td>2014-04-08 08:59:39</td>\n",
       "      <td>2014-04-08 09:28:57</td>\n",
       "      <td>1</td>\n",
       "      <td>2.5</td>\n",
       "      <td>-73.958848</td>\n",
       "      <td>40.763585</td>\n",
       "      <td>1</td>\n",
       "      <td>N</td>\n",
       "      <td>-73.986284</td>\n",
       "      <td>40.752034</td>\n",
       "      <td>CRD</td>\n",
       "      <td>18.0</td>\n",
       "      <td>0.0</td>\n",
       "      <td>0.5</td>\n",
       "      <td>3.7</td>\n",
       "      <td>0.0</td>\n",
       "      <td>22.2</td>\n",
       "    </tr>\n",
       "    <tr>\n",
       "      <th>1</th>\n",
       "      <td>CMT</td>\n",
       "      <td>2014-04-08 14:59:22</td>\n",
       "      <td>2014-04-08 15:04:52</td>\n",
       "      <td>1</td>\n",
       "      <td>0.9</td>\n",
       "      <td>0.000000</td>\n",
       "      <td>0.000000</td>\n",
       "      <td>1</td>\n",
       "      <td>N</td>\n",
       "      <td>0.000000</td>\n",
       "      <td>0.000000</td>\n",
       "      <td>CRD</td>\n",
       "      <td>6.0</td>\n",
       "      <td>0.0</td>\n",
       "      <td>0.5</td>\n",
       "      <td>1.3</td>\n",
       "      <td>0.0</td>\n",
       "      <td>7.8</td>\n",
       "    </tr>\n",
       "    <tr>\n",
       "      <th>2</th>\n",
       "      <td>CMT</td>\n",
       "      <td>2014-04-08 08:45:28</td>\n",
       "      <td>2014-04-08 08:50:41</td>\n",
       "      <td>2</td>\n",
       "      <td>0.6</td>\n",
       "      <td>-73.992233</td>\n",
       "      <td>40.729136</td>\n",
       "      <td>1</td>\n",
       "      <td>N</td>\n",
       "      <td>-73.991387</td>\n",
       "      <td>40.735186</td>\n",
       "      <td>CRD</td>\n",
       "      <td>5.5</td>\n",
       "      <td>0.0</td>\n",
       "      <td>0.5</td>\n",
       "      <td>1.2</td>\n",
       "      <td>0.0</td>\n",
       "      <td>7.2</td>\n",
       "    </tr>\n",
       "    <tr>\n",
       "      <th>3</th>\n",
       "      <td>CMT</td>\n",
       "      <td>2014-04-08 08:00:20</td>\n",
       "      <td>2014-04-08 08:11:31</td>\n",
       "      <td>2</td>\n",
       "      <td>0.5</td>\n",
       "      <td>-73.973726</td>\n",
       "      <td>40.750095</td>\n",
       "      <td>1</td>\n",
       "      <td>N</td>\n",
       "      <td>-73.976889</td>\n",
       "      <td>40.755623</td>\n",
       "      <td>CRD</td>\n",
       "      <td>8.0</td>\n",
       "      <td>0.0</td>\n",
       "      <td>0.5</td>\n",
       "      <td>1.7</td>\n",
       "      <td>0.0</td>\n",
       "      <td>10.2</td>\n",
       "    </tr>\n",
       "    <tr>\n",
       "      <th>4</th>\n",
       "      <td>CMT</td>\n",
       "      <td>2014-04-08 08:38:36</td>\n",
       "      <td>2014-04-08 08:44:37</td>\n",
       "      <td>1</td>\n",
       "      <td>0.4</td>\n",
       "      <td>-73.973502</td>\n",
       "      <td>40.755479</td>\n",
       "      <td>1</td>\n",
       "      <td>Y</td>\n",
       "      <td>-73.979198</td>\n",
       "      <td>40.758619</td>\n",
       "      <td>CRD</td>\n",
       "      <td>5.5</td>\n",
       "      <td>0.0</td>\n",
       "      <td>0.5</td>\n",
       "      <td>1.2</td>\n",
       "      <td>0.0</td>\n",
       "      <td>7.2</td>\n",
       "    </tr>\n",
       "  </tbody>\n",
       "</table>\n",
       "</div>"
      ],
      "text/plain": [
       "  vendor_id      pickup_datetime     dropoff_datetime   passenger_count  \\\n",
       "0       CMT  2014-04-08 08:59:39  2014-04-08 09:28:57                 1   \n",
       "1       CMT  2014-04-08 14:59:22  2014-04-08 15:04:52                 1   \n",
       "2       CMT  2014-04-08 08:45:28  2014-04-08 08:50:41                 2   \n",
       "3       CMT  2014-04-08 08:00:20  2014-04-08 08:11:31                 2   \n",
       "4       CMT  2014-04-08 08:38:36  2014-04-08 08:44:37                 1   \n",
       "\n",
       "    trip_distance   pickup_longitude   pickup_latitude   rate_code  \\\n",
       "0             2.5         -73.958848         40.763585           1   \n",
       "1             0.9           0.000000          0.000000           1   \n",
       "2             0.6         -73.992233         40.729136           1   \n",
       "3             0.5         -73.973726         40.750095           1   \n",
       "4             0.4         -73.973502         40.755479           1   \n",
       "\n",
       "   store_and_fwd_flag   dropoff_longitude   dropoff_latitude  payment_type  \\\n",
       "0                   N          -73.986284          40.752034           CRD   \n",
       "1                   N            0.000000           0.000000           CRD   \n",
       "2                   N          -73.991387          40.735186           CRD   \n",
       "3                   N          -73.976889          40.755623           CRD   \n",
       "4                   Y          -73.979198          40.758619           CRD   \n",
       "\n",
       "    fare_amount   surcharge   mta_tax   tip_amount   tolls_amount  \\\n",
       "0          18.0         0.0       0.5          3.7            0.0   \n",
       "1           6.0         0.0       0.5          1.3            0.0   \n",
       "2           5.5         0.0       0.5          1.2            0.0   \n",
       "3           8.0         0.0       0.5          1.7            0.0   \n",
       "4           5.5         0.0       0.5          1.2            0.0   \n",
       "\n",
       "    total_amount  \n",
       "0           22.2  \n",
       "1            7.8  \n",
       "2            7.2  \n",
       "3           10.2  \n",
       "4            7.2  "
      ]
     },
     "execution_count": 2,
     "metadata": {},
     "output_type": "execute_result"
    }
   ],
   "source": [
    "# 加载数据集并预览\n",
    "df=pd.read_csv('./yellow_tripdata_2014-04.csv')\n",
    "df.head()"
   ]
  },
  {
   "cell_type": "code",
   "execution_count": 3,
   "metadata": {},
   "outputs": [
    {
     "data": {
      "text/plain": [
       "(14618759, 18)"
      ]
     },
     "execution_count": 3,
     "metadata": {},
     "output_type": "execute_result"
    }
   ],
   "source": [
    "# 数据预处理\n",
    "# 修改列名字，去除空格\n",
    "col_name=[]\n",
    "for col in df.columns:\n",
    "    col_name.append(col.replace(' ',''))\n",
    "df.columns=col_name\n",
    "df.shape"
   ]
  },
  {
   "cell_type": "code",
   "execution_count": 4,
   "metadata": {},
   "outputs": [
    {
     "data": {
      "text/plain": [
       "(14618722, 18)"
      ]
     },
     "execution_count": 4,
     "metadata": {},
     "output_type": "execute_result"
    }
   ],
   "source": [
    "# 先去空值、重复值\n",
    "df.dropna()\n",
    "df.drop_duplicates(inplace=True)\n",
    "df.shape"
   ]
  },
  {
   "cell_type": "code",
   "execution_count": 5,
   "metadata": {},
   "outputs": [
    {
     "data": {
      "text/plain": [
       "1    10324326\n",
       "2     2003862\n",
       "5      833159\n",
       "3      607120\n",
       "6      551197\n",
       "4      298913\n",
       "0         128\n",
       "7           8\n",
       "8           5\n",
       "9           4\n",
       "Name: passenger_count, dtype: int64"
      ]
     },
     "execution_count": 5,
     "metadata": {},
     "output_type": "execute_result"
    }
   ],
   "source": [
    "# 根据乘客数量清洗\n",
    "df['passenger_count'].value_counts()"
   ]
  },
  {
   "cell_type": "code",
   "execution_count": 6,
   "metadata": {},
   "outputs": [
    {
     "name": "stdout",
     "output_type": "stream",
     "text": [
      "1    10324326\n",
      "2     2003862\n",
      "3      607120\n",
      "4      298913\n",
      "Name: passenger_count, dtype: int64\n",
      "(13234221, 18)\n"
     ]
    }
   ],
   "source": [
    "# 出租车乘客不能超过4个，更不能为0个\n",
    "df=df.loc[df['passenger_count']<=4,:]\n",
    "df=df[df['passenger_count']!=0]\n",
    "print(df['passenger_count'].value_counts())\n",
    "print(df.shape)"
   ]
  },
  {
   "cell_type": "code",
   "execution_count": 7,
   "metadata": {},
   "outputs": [
    {
     "name": "stdout",
     "output_type": "stream",
     "text": [
      "1.10     315114\n",
      "1.20     302168\n",
      "1.30     286130\n",
      "1.40     272233\n",
      "1.50     256919\n",
      "          ...  \n",
      "92.40         1\n",
      "65.70         1\n",
      "38.69         1\n",
      "44.60         1\n",
      "45.75         1\n",
      "Name: trip_distance, Length: 4193, dtype: int64\n",
      "(9967067, 18)\n"
     ]
    }
   ],
   "source": [
    "# 1英里约为1.6公里，故筛选大于1英里的订单为有效订单\n",
    "df=df.loc[df['trip_distance']>1,:]\n",
    "print(df['trip_distance'].value_counts())\n",
    "print(df.shape)"
   ]
  },
  {
   "cell_type": "code",
   "execution_count": 8,
   "metadata": {},
   "outputs": [
    {
     "name": "stdout",
     "output_type": "stream",
     "text": [
      "(9735471, 18)\n"
     ]
    }
   ],
   "source": [
    "# 去除纽约市范围以外的数据\n",
    "# 纽约市的经纬度范围，数据参考[参考文献[1]]\n",
    "nyc_longi_lim = [-74.15, -73.7004]\n",
    "nyc_lati_lim = [40.5774, 40.9176]\n",
    "\n",
    "df=df[(df['pickup_longitude']>nyc_longi_lim[0])&(df['pickup_longitude']<nyc_longi_lim[1])]\n",
    "df=df[(df['pickup_latitude']>nyc_lati_lim[0])&(df['pickup_latitude']<nyc_lati_lim[1])]\n",
    "\n",
    "df=df[(df['dropoff_longitude']>nyc_longi_lim[0])&(df['dropoff_longitude']<nyc_longi_lim[1])]\n",
    "df=df[(df['dropoff_latitude']>nyc_lati_lim[0])&(df['dropoff_latitude']<nyc_lati_lim[1])]\n",
    "\n",
    "print(df.shape)"
   ]
  },
  {
   "cell_type": "code",
   "execution_count": 9,
   "metadata": {},
   "outputs": [
    {
     "name": "stdout",
     "output_type": "stream",
     "text": [
      "CRD    5857532\n",
      "CSH    3806672\n",
      "UNK      47928\n",
      "NOC      17209\n",
      "DIS       6130\n",
      "Name: payment_type, dtype: int64\n"
     ]
    }
   ],
   "source": [
    "# 没有无效的订单\n",
    "print(df['payment_type'].value_counts())"
   ]
  },
  {
   "cell_type": "code",
   "execution_count": 10,
   "metadata": {},
   "outputs": [
    {
     "name": "stdout",
     "output_type": "stream",
     "text": [
      "(9735471, 9)\n"
     ]
    }
   ],
   "source": [
    "# 去除不相关的字段\n",
    "df=df.drop(['vendor_id','rate_code','store_and_fwd_flag',\n",
    "            'payment_type','fare_amount','surcharge',\n",
    "            'mta_tax','tip_amount','tolls_amount'],axis=1)\n",
    "print(df.shape)"
   ]
  },
  {
   "cell_type": "code",
   "execution_count": 11,
   "metadata": {},
   "outputs": [
    {
     "name": "stdout",
     "output_type": "stream",
     "text": [
      "    passenger_count  trip_distance  pickup_longitude  pickup_latitude  \\\n",
      "0                 1            2.5        -73.958848        40.763585   \n",
      "8                 1            2.9        -74.004322        40.725582   \n",
      "13                1            1.5        -73.988110        40.745945   \n",
      "16                1            3.8        -73.987217        40.769016   \n",
      "17                1            1.4        -74.000734        40.727246   \n",
      "\n",
      "    dropoff_longitude  dropoff_latitude  total_amount  pickup_weekday  \\\n",
      "0          -73.986284         40.752034         22.20               1   \n",
      "8          -73.976799         40.758221         17.50               1   \n",
      "13         -73.975563         40.762515         16.80               1   \n",
      "16         -74.001984         40.719286         18.12               1   \n",
      "17         -73.986297         40.737786          8.50               1   \n",
      "\n",
      "    dropoff_weekday  pickup_hour  dropoff_hour  \n",
      "0                 1            8             9  \n",
      "8                 1           16            16  \n",
      "13                1           11            11  \n",
      "16                1            7             8  \n",
      "17                1           22            22  \n"
     ]
    }
   ],
   "source": [
    "# 处理时间特征\n",
    "df['pickup_totime']=pd.to_datetime(df['pickup_datetime'])\n",
    "\n",
    "# 将日特征转换为星期几\n",
    "pick_wk_list=[]\n",
    "for i in df['pickup_totime']:\n",
    "    pick_wk_list.append(i.weekday())\n",
    "df['pickup_weekday']=pick_wk_list\n",
    "\n",
    "df['dropoff_totime']=pd.to_datetime(df['dropoff_datetime'])\n",
    "drop_wk_list=[]\n",
    "for i in df['dropoff_totime']:\n",
    "    drop_wk_list.append(i.weekday())\n",
    "df['dropoff_weekday']=drop_wk_list\n",
    "\n",
    "# 提取小时特征\n",
    "df['pickup_hour'] = df['pickup_totime'].dt.hour\n",
    "df['dropoff_hour'] = df['dropoff_totime'].dt.hour\n",
    "\n",
    "# 丢掉多余特征\n",
    "df = df.drop(['pickup_datetime','pickup_totime',\n",
    "              'dropoff_datetime','dropoff_totime'], axis=1)\n",
    "\n",
    "print(df.head())"
   ]
  },
  {
   "cell_type": "code",
   "execution_count": 12,
   "metadata": {},
   "outputs": [
    {
     "data": {
      "text/plain": [
       "count    9.735471e+06\n",
       "mean     1.730328e+01\n",
       "std      1.195978e+01\n",
       "min      3.000000e+00\n",
       "25%      1.010000e+01\n",
       "50%      1.350000e+01\n",
       "75%      1.920000e+01\n",
       "max      5.090000e+02\n",
       "Name: total_amount, dtype: float64"
      ]
     },
     "execution_count": 12,
     "metadata": {},
     "output_type": "execute_result"
    }
   ],
   "source": [
    "# 处理total_amount里面的异常值\n",
    "df['total_amount'].describe()"
   ]
  },
  {
   "cell_type": "code",
   "execution_count": 13,
   "metadata": {},
   "outputs": [
    {
     "name": "stdout",
     "output_type": "stream",
     "text": [
      "0.75: 19.2\n",
      "0.8: 21.5\n",
      "0.85: 24.88\n",
      "0.9: 31.1\n",
      "0.95: 43.75\n",
      "0.99: 67.83\n"
     ]
    }
   ],
   "source": [
    "stat=df['total_amount'].describe(percentiles=[0.75,0.8,0.85,0.9,0.95,0.99])\n",
    "print('0.75:',stat['75%'])\n",
    "print('0.8:',stat['80%'])\n",
    "print('0.85:',stat['85%'])\n",
    "print('0.9:',stat['90%'])\n",
    "print('0.95:',stat['95%'])\n",
    "print('0.99:',stat['99%'])"
   ]
  },
  {
   "cell_type": "code",
   "execution_count": 14,
   "metadata": {},
   "outputs": [
    {
     "data": {
      "text/plain": [
       "24.88"
      ]
     },
     "execution_count": 14,
     "metadata": {},
     "output_type": "execute_result"
    }
   ],
   "source": [
    "max_percentile_ta=df['total_amount'].quantile(0.85)\n",
    "max_percentile_ta"
   ]
  },
  {
   "cell_type": "code",
   "execution_count": 15,
   "metadata": {},
   "outputs": [
    {
     "data": {
      "text/plain": [
       "(8272934, 11)"
      ]
     },
     "execution_count": 15,
     "metadata": {},
     "output_type": "execute_result"
    }
   ],
   "source": [
    "df=df[df['total_amount']<max_percentile_ta]\n",
    "df.shape"
   ]
  },
  {
   "cell_type": "code",
   "execution_count": 16,
   "metadata": {},
   "outputs": [
    {
     "data": {
      "text/plain": [
       "count    8.272934e+06\n",
       "mean     1.317355e+01\n",
       "std      4.370181e+00\n",
       "min      3.000000e+00\n",
       "25%      9.600000e+00\n",
       "50%      1.238000e+01\n",
       "75%      1.600000e+01\n",
       "max      2.487000e+01\n",
       "Name: total_amount, dtype: float64"
      ]
     },
     "execution_count": 16,
     "metadata": {},
     "output_type": "execute_result"
    }
   ],
   "source": [
    "df['total_amount'].describe()"
   ]
  },
  {
   "cell_type": "code",
   "execution_count": 17,
   "metadata": {},
   "outputs": [],
   "source": [
    "df.to_csv('cleaned_data.csv')"
   ]
  },
  {
   "cell_type": "code",
   "execution_count": 18,
   "metadata": {},
   "outputs": [],
   "source": [
    "# 根据不同区域的经纬度范围，将纽约市划分为若干个区域，并为每个区域分配一个编号\n",
    "# 根据经纬度计算行程距离（单位为公里）\n",
    "def haversine_distance(lat1, lon1, lat2, lon2):\n",
    "  # 将角度转换为弧度\n",
    "  lat1 = np.radians(lat1)\n",
    "  lon1 = np.radians(lon1)\n",
    "  lat2 = np.radians(lat2)\n",
    "  lon2 = np.radians(lon2)\n",
    "\n",
    "  # 计算两点之间的球面距离（km）\n",
    "  dlon = lon2 - lon1\n",
    "  dlat = lat2 - lat1\n",
    "  a = np.sin(dlat / 2)**2 + np.cos(lat1) * np.cos(lat2) * np.sin(dlon / 2)**2\n",
    "  c = 2 * np.arcsin(np.sqrt(a))\n",
    "  r = 6371 # 地球半径（km）\n",
    "  return c * r\n",
    "\n",
    "df['trip_distance_km'] = haversine_distance(df['pickup_latitude'], df['pickup_longitude'], df['dropoff_latitude'], df['dropoff_longitude'])"
   ]
  },
  {
   "cell_type": "code",
   "execution_count": 19,
   "metadata": {},
   "outputs": [
    {
     "data": {
      "text/html": [
       "<div>\n",
       "<style scoped>\n",
       "    .dataframe tbody tr th:only-of-type {\n",
       "        vertical-align: middle;\n",
       "    }\n",
       "\n",
       "    .dataframe tbody tr th {\n",
       "        vertical-align: top;\n",
       "    }\n",
       "\n",
       "    .dataframe thead th {\n",
       "        text-align: right;\n",
       "    }\n",
       "</style>\n",
       "<table border=\"1\" class=\"dataframe\">\n",
       "  <thead>\n",
       "    <tr style=\"text-align: right;\">\n",
       "      <th></th>\n",
       "      <th>passenger_count</th>\n",
       "      <th>trip_distance</th>\n",
       "      <th>pickup_longitude</th>\n",
       "      <th>pickup_latitude</th>\n",
       "      <th>dropoff_longitude</th>\n",
       "      <th>dropoff_latitude</th>\n",
       "      <th>total_amount</th>\n",
       "      <th>pickup_weekday</th>\n",
       "      <th>dropoff_weekday</th>\n",
       "      <th>pickup_hour</th>\n",
       "      <th>dropoff_hour</th>\n",
       "      <th>trip_distance_km</th>\n",
       "    </tr>\n",
       "  </thead>\n",
       "  <tbody>\n",
       "    <tr>\n",
       "      <th>0</th>\n",
       "      <td>1</td>\n",
       "      <td>2.5</td>\n",
       "      <td>-73.958848</td>\n",
       "      <td>40.763585</td>\n",
       "      <td>-73.986284</td>\n",
       "      <td>40.752034</td>\n",
       "      <td>22.20</td>\n",
       "      <td>1</td>\n",
       "      <td>1</td>\n",
       "      <td>8</td>\n",
       "      <td>9</td>\n",
       "      <td>2.643826</td>\n",
       "    </tr>\n",
       "    <tr>\n",
       "      <th>8</th>\n",
       "      <td>1</td>\n",
       "      <td>2.9</td>\n",
       "      <td>-74.004322</td>\n",
       "      <td>40.725582</td>\n",
       "      <td>-73.976799</td>\n",
       "      <td>40.758221</td>\n",
       "      <td>17.50</td>\n",
       "      <td>1</td>\n",
       "      <td>1</td>\n",
       "      <td>16</td>\n",
       "      <td>16</td>\n",
       "      <td>4.306779</td>\n",
       "    </tr>\n",
       "    <tr>\n",
       "      <th>13</th>\n",
       "      <td>1</td>\n",
       "      <td>1.5</td>\n",
       "      <td>-73.988110</td>\n",
       "      <td>40.745945</td>\n",
       "      <td>-73.975563</td>\n",
       "      <td>40.762515</td>\n",
       "      <td>16.80</td>\n",
       "      <td>1</td>\n",
       "      <td>1</td>\n",
       "      <td>11</td>\n",
       "      <td>11</td>\n",
       "      <td>2.124090</td>\n",
       "    </tr>\n",
       "    <tr>\n",
       "      <th>16</th>\n",
       "      <td>1</td>\n",
       "      <td>3.8</td>\n",
       "      <td>-73.987217</td>\n",
       "      <td>40.769016</td>\n",
       "      <td>-74.001984</td>\n",
       "      <td>40.719286</td>\n",
       "      <td>18.12</td>\n",
       "      <td>1</td>\n",
       "      <td>1</td>\n",
       "      <td>7</td>\n",
       "      <td>8</td>\n",
       "      <td>5.667935</td>\n",
       "    </tr>\n",
       "    <tr>\n",
       "      <th>17</th>\n",
       "      <td>1</td>\n",
       "      <td>1.4</td>\n",
       "      <td>-74.000734</td>\n",
       "      <td>40.727246</td>\n",
       "      <td>-73.986297</td>\n",
       "      <td>40.737786</td>\n",
       "      <td>8.50</td>\n",
       "      <td>1</td>\n",
       "      <td>1</td>\n",
       "      <td>22</td>\n",
       "      <td>22</td>\n",
       "      <td>1.689181</td>\n",
       "    </tr>\n",
       "  </tbody>\n",
       "</table>\n",
       "</div>"
      ],
      "text/plain": [
       "    passenger_count  trip_distance  pickup_longitude  pickup_latitude  \\\n",
       "0                 1            2.5        -73.958848        40.763585   \n",
       "8                 1            2.9        -74.004322        40.725582   \n",
       "13                1            1.5        -73.988110        40.745945   \n",
       "16                1            3.8        -73.987217        40.769016   \n",
       "17                1            1.4        -74.000734        40.727246   \n",
       "\n",
       "    dropoff_longitude  dropoff_latitude  total_amount  pickup_weekday  \\\n",
       "0          -73.986284         40.752034         22.20               1   \n",
       "8          -73.976799         40.758221         17.50               1   \n",
       "13         -73.975563         40.762515         16.80               1   \n",
       "16         -74.001984         40.719286         18.12               1   \n",
       "17         -73.986297         40.737786          8.50               1   \n",
       "\n",
       "    dropoff_weekday  pickup_hour  dropoff_hour  trip_distance_km  \n",
       "0                 1            8             9          2.643826  \n",
       "8                 1           16            16          4.306779  \n",
       "13                1           11            11          2.124090  \n",
       "16                1            7             8          5.667935  \n",
       "17                1           22            22          1.689181  "
      ]
     },
     "execution_count": 19,
     "metadata": {},
     "output_type": "execute_result"
    }
   ],
   "source": [
    "df.head()"
   ]
  },
  {
   "cell_type": "code",
   "execution_count": 20,
   "metadata": {},
   "outputs": [],
   "source": [
    "# 根据不同区域的经纬度范围，将纽约市划分为若干个区域，并为每个区域分配一个编号\n",
    "def assign_zone(lat, lon):\n",
    "  # 纽约市中心区域（编号为0）\n",
    "  if (40.7 <= lat <= 40.8) and (-74.0 >= lon >= -74.1):\n",
    "    return 0\n",
    "  # 纽约市东北区域（编号为1）\n",
    "  elif (40.8 <= lat <= 40.9) and (-73.9 >= lon >= -74.0):\n",
    "    return 1\n",
    "  # 纽约市西南区域（编号为2）\n",
    "  elif (40.6 <= lat <= 40.7) and (-74.1 >= lon >= -74.2):\n",
    "    return 2\n",
    "  # 纽约市其他区域（编号为3）\n",
    "  else:\n",
    "    return 3\n",
    "  \n",
    "  # 将上车地点和下车地点都划分到相应的区域，并转换为分类变量\n",
    "df['pickup_zone'] = df.apply(lambda x: assign_zone(x['pickup_latitude'], x['pickup_longitude']), axis=1).astype('category')\n",
    "df['dropoff_zone'] = df.apply(lambda x: assign_zone(x['dropoff_latitude'], x['dropoff_longitude']), axis=1).astype('category')"
   ]
  },
  {
   "cell_type": "code",
   "execution_count": 21,
   "metadata": {},
   "outputs": [
    {
     "data": {
      "text/html": [
       "<div>\n",
       "<style scoped>\n",
       "    .dataframe tbody tr th:only-of-type {\n",
       "        vertical-align: middle;\n",
       "    }\n",
       "\n",
       "    .dataframe tbody tr th {\n",
       "        vertical-align: top;\n",
       "    }\n",
       "\n",
       "    .dataframe thead th {\n",
       "        text-align: right;\n",
       "    }\n",
       "</style>\n",
       "<table border=\"1\" class=\"dataframe\">\n",
       "  <thead>\n",
       "    <tr style=\"text-align: right;\">\n",
       "      <th></th>\n",
       "      <th>passenger_count</th>\n",
       "      <th>trip_distance</th>\n",
       "      <th>pickup_longitude</th>\n",
       "      <th>pickup_latitude</th>\n",
       "      <th>dropoff_longitude</th>\n",
       "      <th>dropoff_latitude</th>\n",
       "      <th>total_amount</th>\n",
       "      <th>pickup_weekday</th>\n",
       "      <th>dropoff_weekday</th>\n",
       "      <th>pickup_hour</th>\n",
       "      <th>dropoff_hour</th>\n",
       "      <th>trip_distance_km</th>\n",
       "      <th>pickup_zone</th>\n",
       "      <th>dropoff_zone</th>\n",
       "    </tr>\n",
       "  </thead>\n",
       "  <tbody>\n",
       "    <tr>\n",
       "      <th>0</th>\n",
       "      <td>1</td>\n",
       "      <td>2.5</td>\n",
       "      <td>-73.958848</td>\n",
       "      <td>40.763585</td>\n",
       "      <td>-73.986284</td>\n",
       "      <td>40.752034</td>\n",
       "      <td>22.20</td>\n",
       "      <td>1</td>\n",
       "      <td>1</td>\n",
       "      <td>8</td>\n",
       "      <td>9</td>\n",
       "      <td>2.643826</td>\n",
       "      <td>3</td>\n",
       "      <td>3</td>\n",
       "    </tr>\n",
       "    <tr>\n",
       "      <th>8</th>\n",
       "      <td>1</td>\n",
       "      <td>2.9</td>\n",
       "      <td>-74.004322</td>\n",
       "      <td>40.725582</td>\n",
       "      <td>-73.976799</td>\n",
       "      <td>40.758221</td>\n",
       "      <td>17.50</td>\n",
       "      <td>1</td>\n",
       "      <td>1</td>\n",
       "      <td>16</td>\n",
       "      <td>16</td>\n",
       "      <td>4.306779</td>\n",
       "      <td>0</td>\n",
       "      <td>3</td>\n",
       "    </tr>\n",
       "    <tr>\n",
       "      <th>13</th>\n",
       "      <td>1</td>\n",
       "      <td>1.5</td>\n",
       "      <td>-73.988110</td>\n",
       "      <td>40.745945</td>\n",
       "      <td>-73.975563</td>\n",
       "      <td>40.762515</td>\n",
       "      <td>16.80</td>\n",
       "      <td>1</td>\n",
       "      <td>1</td>\n",
       "      <td>11</td>\n",
       "      <td>11</td>\n",
       "      <td>2.124090</td>\n",
       "      <td>3</td>\n",
       "      <td>3</td>\n",
       "    </tr>\n",
       "    <tr>\n",
       "      <th>16</th>\n",
       "      <td>1</td>\n",
       "      <td>3.8</td>\n",
       "      <td>-73.987217</td>\n",
       "      <td>40.769016</td>\n",
       "      <td>-74.001984</td>\n",
       "      <td>40.719286</td>\n",
       "      <td>18.12</td>\n",
       "      <td>1</td>\n",
       "      <td>1</td>\n",
       "      <td>7</td>\n",
       "      <td>8</td>\n",
       "      <td>5.667935</td>\n",
       "      <td>3</td>\n",
       "      <td>0</td>\n",
       "    </tr>\n",
       "    <tr>\n",
       "      <th>17</th>\n",
       "      <td>1</td>\n",
       "      <td>1.4</td>\n",
       "      <td>-74.000734</td>\n",
       "      <td>40.727246</td>\n",
       "      <td>-73.986297</td>\n",
       "      <td>40.737786</td>\n",
       "      <td>8.50</td>\n",
       "      <td>1</td>\n",
       "      <td>1</td>\n",
       "      <td>22</td>\n",
       "      <td>22</td>\n",
       "      <td>1.689181</td>\n",
       "      <td>0</td>\n",
       "      <td>3</td>\n",
       "    </tr>\n",
       "  </tbody>\n",
       "</table>\n",
       "</div>"
      ],
      "text/plain": [
       "    passenger_count  trip_distance  pickup_longitude  pickup_latitude  \\\n",
       "0                 1            2.5        -73.958848        40.763585   \n",
       "8                 1            2.9        -74.004322        40.725582   \n",
       "13                1            1.5        -73.988110        40.745945   \n",
       "16                1            3.8        -73.987217        40.769016   \n",
       "17                1            1.4        -74.000734        40.727246   \n",
       "\n",
       "    dropoff_longitude  dropoff_latitude  total_amount  pickup_weekday  \\\n",
       "0          -73.986284         40.752034         22.20               1   \n",
       "8          -73.976799         40.758221         17.50               1   \n",
       "13         -73.975563         40.762515         16.80               1   \n",
       "16         -74.001984         40.719286         18.12               1   \n",
       "17         -73.986297         40.737786          8.50               1   \n",
       "\n",
       "    dropoff_weekday  pickup_hour  dropoff_hour  trip_distance_km pickup_zone  \\\n",
       "0                 1            8             9          2.643826           3   \n",
       "8                 1           16            16          4.306779           0   \n",
       "13                1           11            11          2.124090           3   \n",
       "16                1            7             8          5.667935           3   \n",
       "17                1           22            22          1.689181           0   \n",
       "\n",
       "   dropoff_zone  \n",
       "0             3  \n",
       "8             3  \n",
       "13            3  \n",
       "16            0  \n",
       "17            3  "
      ]
     },
     "execution_count": 21,
     "metadata": {},
     "output_type": "execute_result"
    }
   ],
   "source": [
    "df.head()"
   ]
  },
  {
   "cell_type": "code",
   "execution_count": 22,
   "metadata": {},
   "outputs": [],
   "source": [
    "# 删除一些不再需要的列，如原始时间戳和经纬度等\n",
    "df.drop(['pickup_longitude', 'pickup_latitude', 'dropoff_longitude', 'dropoff_latitude'], axis=1, inplace=True)"
   ]
  },
  {
   "cell_type": "code",
   "execution_count": 23,
   "metadata": {},
   "outputs": [],
   "source": [
    "df=df.groupby(['pickup_weekday','dropoff_weekday','pickup_hour',\n",
    "                  'trip_distance_km','pickup_zone','dropoff_zone'],observed=True).size().reset_index(name='demand')\n"
   ]
  },
  {
   "cell_type": "code",
   "execution_count": 24,
   "metadata": {},
   "outputs": [
    {
     "name": "stdout",
     "output_type": "stream",
     "text": [
      "   pickup_weekday  dropoff_weekday  pickup_hour  trip_distance_km pickup_zone  \\\n",
      "0               0                0            0          0.000000           3   \n",
      "1               0                0            0          0.000000           0   \n",
      "2               0                0            0          0.000000           1   \n",
      "3               0                0            0          0.000169           3   \n",
      "4               0                0            0          0.000611           3   \n",
      "\n",
      "  dropoff_zone  demand  \n",
      "0            3     129  \n",
      "1            0      18  \n",
      "2            1       9  \n",
      "3            3       1  \n",
      "4            3       1  \n"
     ]
    }
   ],
   "source": [
    "print(df.head())\n",
    "df.to_csv('feature_data.csv')"
   ]
  },
  {
   "cell_type": "code",
   "execution_count": 25,
   "metadata": {},
   "outputs": [
    {
     "name": "stdout",
     "output_type": "stream",
     "text": [
      "         pickup_weekday  dropoff_weekday  pickup_hour  trip_distance_km  \\\n",
      "1737099               1                1           17          2.059338   \n",
      "2059624               1                1           21          1.591580   \n",
      "5551835               4                4           19          2.173248   \n",
      "7342207               6                6            2          4.545805   \n",
      "4531019               3                3           21          1.818628   \n",
      "...                 ...              ...          ...               ...   \n",
      "6550634               5                5           15          1.834669   \n",
      "7705870               6                6           13          2.242883   \n",
      "6423388               5                5           13          1.399311   \n",
      "6962611               5                5           21          3.016355   \n",
      "6413414               5                5           12          5.454525   \n",
      "\n",
      "        pickup_zone dropoff_zone  \n",
      "1737099           3            3  \n",
      "2059624           3            3  \n",
      "5551835           3            3  \n",
      "7342207           3            3  \n",
      "4531019           3            3  \n",
      "...             ...          ...  \n",
      "6550634           3            3  \n",
      "7705870           3            0  \n",
      "6423388           3            3  \n",
      "6962611           3            3  \n",
      "6413414           3            3  \n",
      "\n",
      "[4939426 rows x 6 columns] 1737099    1\n",
      "2059624    1\n",
      "5551835    1\n",
      "7342207    1\n",
      "4531019    1\n",
      "          ..\n",
      "6550634    1\n",
      "7705870    1\n",
      "6423388    1\n",
      "6962611    1\n",
      "6413414    1\n",
      "Name: demand, Length: 4939426, dtype: int64\n"
     ]
    }
   ],
   "source": [
    "# 将数据集划分为训练集和测试集\n",
    "X = df.drop(['demand'], axis=1) # 特征矩阵\n",
    "y = df['demand'] # 目标向量\n",
    "X_train, X_test, y_train, y_test = train_test_split(X, y, test_size=0.4, random_state=42) # 划分训练集和测试集\n",
    "\n",
    "print(X_train,y_train)"
   ]
  },
  {
   "cell_type": "code",
   "execution_count": 26,
   "metadata": {},
   "outputs": [],
   "source": [
    "# 定义一个评估函数，来计算模型在测试集上的均方误差（MSE）和决定系数（R^2^）等指标\n",
    "def evaluate_model(model, X_test, y_test):  # 用模型对测试集进行预测\n",
    "  y_pred = model.predict(X_test)\n",
    "  # 计算均方误差（MSE）\n",
    "  mse = mean_squared_error(y_test, y_pred)\n",
    "  # 计算决定系数（R^2^）\n",
    "  r2 = r2_score(y_test, y_pred)\n",
    "  # 打印评估结果\n",
    "  print(f'MSE: {mse:.4f}')\n",
    "  print(f'R^2: {r2:.4f}')"
   ]
  },
  {
   "cell_type": "code",
   "execution_count": 27,
   "metadata": {},
   "outputs": [
    {
     "name": "stdout",
     "output_type": "stream",
     "text": [
      "Random Forest:\n",
      "MSE: 0.0716\n",
      "R^2: 0.9365\n"
     ]
    }
   ],
   "source": [
    "# 建立随机森林模型\n",
    "rf = RandomForestRegressor(random_state=42)\n",
    "\n",
    "# 拟合模型\n",
    "rf.fit(X_train, y_train)\n",
    "\n",
    "# 评估模型\n",
    "print('Random Forest:')\n",
    "evaluate_model(rf, X_test, y_test)"
   ]
  },
  {
   "cell_type": "code",
   "execution_count": 28,
   "metadata": {},
   "outputs": [
    {
     "data": {
      "image/png": "[encoded data removed]",
      "text/plain": [
       "<Figure size 640x480 with 1 Axes>"
      ]
     },
     "metadata": {},
     "output_type": "display_data"
    }
   ],
   "source": [
    "# 画图\n",
    "# 用随机森林模型对测试集进行预测\n",
    "y_pred = rf.predict(X_test)\n",
    "# 将真实值为x轴，预测值为y轴\n",
    "plt.scatter(y_test, y_pred)\n",
    "# 绘制一条y=x的直线，作为参考\n",
    "plt.plot([0, 400], [0, 400], 'r')\n",
    "# 设置x轴和y轴的标签\n",
    "plt.xlabel('True Values')\n",
    "plt.ylabel('Predictions')\n",
    "# 显示图像\n",
    "plt.show()"
   ]
  },
  {
   "cell_type": "code",
   "execution_count": 29,
   "metadata": {},
   "outputs": [
    {
     "name": "stdout",
     "output_type": "stream",
     "text": [
      "MSE: 0.0891\n",
      "R^2: 0.9210\n"
     ]
    }
   ],
   "source": [
    "# 建立GBDT模型\n",
    "gbdt = GradientBoostingRegressor(n_estimators=100, max_depth=10, random_state=42)\n",
    "\n",
    "# 训练模型\n",
    "gbdt.fit(X_train, y_train)\n",
    "\n",
    "# 评估GBDT模型\n",
    "evaluate_model(gbdt, X_test, y_test)"
   ]
  },
  {
   "cell_type": "code",
   "execution_count": 30,
   "metadata": {},
   "outputs": [
    {
     "data": {
      "image/png": "[encoded data removed]",
      "text/plain": [
       "<Figure size 640x480 with 1 Axes>"
      ]
     },
     "metadata": {},
     "output_type": "display_data"
    }
   ],
   "source": [
    "# 画图\n",
    "# 用GBDT模型对测试集进行预测\n",
    "y_pred = rf.predict(X_test)\n",
    "# 将真实值为x轴，预测值为y轴\n",
    "plt.scatter(y_test, y_pred)\n",
    "# 绘制一条y=x的直线，作为参考\n",
    "plt.plot([0, 400], [0, 400], 'r')\n",
    "# 设置x轴和y轴的标签\n",
    "plt.xlabel('True Values')\n",
    "plt.ylabel('Predictions')\n",
    "plt.title('GBDT')\n",
    "# 显示图像\n",
    "plt.show()"
   ]
  },
  {
   "cell_type": "code",
   "execution_count": 31,
   "metadata": {},
   "outputs": [
    {
     "name": "stdout",
     "output_type": "stream",
     "text": [
      "Epoch 1/10\n",
      "154357/154357 [==============================] - 147s 945us/step - loss: 1.2019 - accuracy: 0.7997\n",
      "Epoch 2/10\n",
      "154357/154357 [==============================] - 146s 947us/step - loss: 1.2004 - accuracy: 0.7996\n",
      "Epoch 3/10\n",
      "154357/154357 [==============================] - 137s 888us/step - loss: 1.1939 - accuracy: 0.7998\n",
      "Epoch 4/10\n",
      "154357/154357 [==============================] - 138s 896us/step - loss: 1.1969 - accuracy: 0.7998\n",
      "Epoch 5/10\n",
      "154357/154357 [==============================] - 143s 925us/step - loss: 1.1935 - accuracy: 0.7999\n",
      "Epoch 6/10\n",
      "154357/154357 [==============================] - 142s 921us/step - loss: 1.1913 - accuracy: 0.7996\n",
      "Epoch 7/10\n",
      "154357/154357 [==============================] - 143s 927us/step - loss: 1.1878 - accuracy: 0.7999\n",
      "Epoch 8/10\n",
      "154357/154357 [==============================] - 154s 996us/step - loss: 1.1856 - accuracy: 0.7994\n",
      "Epoch 9/10\n",
      "154357/154357 [==============================] - 143s 927us/step - loss: 1.1871 - accuracy: 0.7999\n",
      "Epoch 10/10\n",
      "154357/154357 [==============================] - 141s 910us/step - loss: 1.1870 - accuracy: 0.7998\n",
      "LSTM:\n",
      "MSE: 1.1437\n",
      "R^2: -0.0145\n"
     ]
    }
   ],
   "source": [
    "# 建立LSTM模型\n",
    "X_train_lstm = X_train.values.reshape((X_train.shape[0], 1, X_train.shape[1]))\n",
    "X_test_lstm = X_test.values.reshape((X_test.shape[0], 1, X_test.shape[1]))\n",
    "y_train_lstm = y_train.values.reshape((y_train.shape[0], 1))\n",
    "y_test_lstm = y_test.values.reshape((y_test.shape[0], 1))\n",
    "batch_size = 32 # 批次大小\n",
    "n_steps = X_train_lstm.shape[0] // batch_size # 步长\n",
    "X_train_lstm = X_train_lstm[:n_steps * batch_size] # 裁剪\n",
    "y_train_lstm = y_train_lstm[:n_steps * batch_size] # 裁剪\n",
    "\n",
    "lstm = Sequential() \n",
    "lstm.add(LSTM(64, input_shape=(X_train_lstm.shape[1], X_train_lstm.shape[2]))) # 添加一个LSTM层，输出维度为64\n",
    "lstm.add(Dense(1)) # 添加一个全连接层，输出维度为1\n",
    "lstm.add(Dropout(0.2))\n",
    "# 编译模型，损失函数为均方误差，优化器为adam\n",
    "lstm.compile(loss='mse', optimizer='adam',metrics=['accuracy']) \n",
    "\n",
    "# 实验发现LSTM模型的效果不佳，过拟合且r方为负\n",
    "lstm.fit(X_train_lstm, y_train_lstm, epochs=10, batch_size=batch_size) # 用训练集拟合模型，迭代次数为10，批次大小为32\n",
    "print('LSTM:')\n",
    "evaluate_model(lstm, X_test_lstm, y_test_lstm) # 评估模型"
   ]
  },
  {
   "cell_type": "code",
   "execution_count": 32,
   "metadata": {},
   "outputs": [
    {
     "name": "stdout",
     "output_type": "stream",
     "text": [
      "Fitting 5 folds for each of 3 candidates, totalling 15 fits\n",
      "Best value for n_estimators: 100\n",
      "Best score: -0.07\n",
      "Fitting 5 folds for each of 3 candidates, totalling 15 fits\n",
      "Best value for max_depth: 15\n",
      "Best score: -0.07\n",
      "Fitting 5 folds for each of 3 candidates, totalling 15 fits\n"
     ]
    },
    {
     "name": "stderr",
     "output_type": "stream",
     "text": [
      "c:\\Users\\13801\\anaconda3\\envs\\Pytorch\\lib\\site-packages\\sklearn\\ensemble\\_forest.py:413: FutureWarning: `max_features='auto'` has been deprecated in 1.1 and will be removed in 1.3. To keep the past behaviour, explicitly set `max_features=1.0` or remove this parameter as it is also the default value for RandomForestRegressors and ExtraTreesRegressors.\n",
      "  warn(\n"
     ]
    },
    {
     "name": "stdout",
     "output_type": "stream",
     "text": [
      "Best value for max_features: auto\n",
      "Best score: -0.07\n"
     ]
    }
   ],
   "source": [
    "# 随机森林效果最优，进行调参\n",
    "from sklearn.model_selection import GridSearchCV\n",
    "\n",
    "# 定义需要调整的参数范围，如树的数量、树的深度、特征选择等\n",
    "param_grid = {\n",
    "    \"n_estimators\": [50, 100, 150],\n",
    "    \"max_depth\": [5, 10 ,15],\n",
    "    \"max_features\": [\"auto\", \"sqrt\", \"log2\"]\n",
    "}\n",
    "\n",
    "# 初始化随机森林模型\n",
    "rf = RandomForestRegressor(random_state=42)\n",
    "\n",
    "# 分步调参\n",
    "for param in param_grid:\n",
    "    # 建立网格搜索对象，用于寻找最优参数值，并用5折交叉验证来评估性能 \n",
    "    grid_search = GridSearchCV(rf, param_grid={param: param_grid[param]},\n",
    "                               scoring=\"neg_mean_squared_error\",\n",
    "                               cv=5,\n",
    "                               verbose=1,\n",
    "                               n_jobs=-1)\n",
    "\n",
    "    # 用训练集来进行网格搜索，并得到最优参数值和最优分数 \n",
    "    grid_search.fit(X_train,y_train)\n",
    "    best_value = grid_search.best_params_[param]\n",
    "    best_score = grid_search.best_score_\n",
    "\n",
    "    print(f\"Best value for {param}: {best_value}\")\n",
    "    print(f\"Best score: {best_score:.2f}\")\n",
    "\n",
    "    # 更新随机森林模型的参数\n",
    "    rf.set_params(**{param: best_value})\n"
   ]
  },
  {
   "cell_type": "code",
   "execution_count": 33,
   "metadata": {},
   "outputs": [
    {
     "name": "stdout",
     "output_type": "stream",
     "text": [
      "{'bootstrap': True, 'ccp_alpha': 0.0, 'criterion': 'squared_error', 'max_depth': 15, 'max_features': 'auto', 'max_leaf_nodes': None, 'max_samples': None, 'min_impurity_decrease': 0.0, 'min_samples_leaf': 1, 'min_samples_split': 2, 'min_weight_fraction_leaf': 0.0, 'n_estimators': 100, 'n_jobs': None, 'oob_score': False, 'random_state': 42, 'verbose': 0, 'warm_start': False}\n"
     ]
    }
   ],
   "source": [
    "print(rf.get_params())"
   ]
  },
  {
   "cell_type": "code",
   "execution_count": 34,
   "metadata": {},
   "outputs": [
    {
     "name": "stdout",
     "output_type": "stream",
     "text": [
      "New MSE: 0.07161974526200202\n"
     ]
    }
   ],
   "source": [
    "mse = mean_squared_error(y_test, y_pred)\n",
    "r2 = r2_score(y_test, y_pred)\n",
    "print('New MSE:',mse)\n"
   ]
  },
  {
   "cell_type": "code",
   "execution_count": 35,
   "metadata": {},
   "outputs": [
    {
     "name": "stderr",
     "output_type": "stream",
     "text": [
      "c:\\Users\\13801\\anaconda3\\envs\\Pytorch\\lib\\site-packages\\sklearn\\ensemble\\_forest.py:413: FutureWarning: `max_features='auto'` has been deprecated in 1.1 and will be removed in 1.3. To keep the past behaviour, explicitly set `max_features=1.0` or remove this parameter as it is also the default value for RandomForestRegressors and ExtraTreesRegressors.\n",
      "  warn(\n"
     ]
    }
   ],
   "source": [
    "rf.fit(X_train, y_train)\n",
    "importances = rf.feature_importances_"
   ]
  },
  {
   "cell_type": "code",
   "execution_count": 36,
   "metadata": {},
   "outputs": [
    {
     "data": {
      "text/plain": [
       "array([0.02509099, 0.02635168, 0.16904717, 0.35107236, 0.20688174,\n",
       "       0.22155607])"
      ]
     },
     "execution_count": 36,
     "metadata": {},
     "output_type": "execute_result"
    }
   ],
   "source": [
    "importances"
   ]
  },
  {
   "cell_type": "code",
   "execution_count": null,
   "metadata": {},
   "outputs": [],
   "source": []
  }
 ],
 "metadata": {
  "kernelspec": {
   "display_name": "Pytorch",
   "language": "python",
   "name": "python3"
  },
  "language_info": {
   "codemirror_mode": {
    "name": "ipython",
    "version": 3
   },
   "file_extension": ".py",
   "mimetype": "text/x-python",
   "name": "python",
   "nbconvert_exporter": "python",
   "pygments_lexer": "ipython3",
   "version": "3.8.16"
  },
  "orig_nbformat": 4
 },
 "nbformat": 4,
 "nbformat_minor": 2
}
